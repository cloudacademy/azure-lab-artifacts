{
  "cells": [
    {
      "cell_type": "markdown",
      "source": [
        "# Tuning Hyperparameters using Hyperdrive\n",
        "Azure Machine Learning allows for hyperparameter training through Hyperdrive experiments. This process launches multiple child runs, each with a different hyperparameter configuration. After all runs are complete, the best model can be evaluated and registered to the Azure Machine Learning Studio.\n",
        "\n",
        "In this notebook, you will follow along the process of tuning Hyperparameters for optimizing a model.\n",
        "\n",
        "*Note*: To execute the code in each cell, click on the cell and press SHIFT + ENTER. "
      ],
      "metadata": {
        "nteract": {
          "transient": {
            "deleting": false
          }
        }
      }
    },
    {
      "source": [
        "### What are hyperparameters?\n",
        "\n",
        "Hyperparameters are different than the model parameters, in that they cannot be learned from the data. They are decided before training the model. They are adjustable and need to be tuned in order to obtain a model with optimal performance. Some examples of hyperparameters include the number of layers in a neural network or the so-called learning rate of many manchine learning algorithms that determines how big of a step the algorithm takes at each iteration. You can [learn more about hyperparameters here](https://en.wikipedia.org/wiki/Hyperparameter_(machine_learning)). An example of a hyperparameter used in the scikit-learn package would be:\n",
        "\n",
        "```\n",
        "train_test_split( X, y, test_size=0.9, random_state=0)\n",
        "```\n",
        "The `test_size` represents the percentage of the data to use in the test split and `random_state` is the seed used by the random number generator. These hyperparameters can be fined tuned in order to create the best possible model."
      ],
      "cell_type": "markdown",
      "metadata": {}
    },
    {
      "cell_type": "markdown",
      "source": [
        "### Login to Workspace\n",
        "To login to the workspace with the Azure ML Python SDK, you will need to authenticate again with Azure. When you run this cell for the first time, you are prompted to authenticate with Azure by clicking on a link and inputting a security code into a web page.\n",
        "\n",
        "This block of code imports the `azureml.core` package which is used for interacting with Azure Machine Learning."
      ],
      "metadata": {
        "nteract": {
          "transient": {
            "deleting": false
          }
        }
      }
    },
    {
      "cell_type": "code",
      "source": [
        "import azureml.core\n",
        "from azureml.core import Workspace\n",
        "\n",
        "# Load the workspace from the saved config file\n",
        "ws = Workspace.from_config()\n",
        "print('Ready to use Azure ML {} to work with {}'.format(azureml.core.VERSION, ws.name))"
      ],
      "outputs": [],
      "execution_count": null,
      "metadata": {}
    },
    {
      "cell_type": "markdown",
      "source": [
        "### Prepare the Data\n",
        "Use the [Diabetes open dataset](https://azure.microsoft.com/en-us/services/open-datasets/catalog/sample-diabetes/) to train a regression model. Executing the code below registers the diabetes dataset within the Machine Learning Studio Workspace as a tabular dataset to be used in experiments.\n"
      ],
      "metadata": {
        "nteract": {
          "transient": {
            "deleting": false
          }
        }
      }
    },
    {
      "cell_type": "code",
      "source": [
        "from azureml.opendatasets import Diabetes\n",
        "from azureml.core import Dataset\n",
        "\n",
        "if 'diabetes' not in ws.datasets:\n",
        "\n",
        "    ds_name = 'diabetes'\n",
        "\n",
        "    #Create a tabular dataset from the path on the datastore\n",
        "    tab_data_set = Diabetes.get_tabular_dataset()\n",
        "\n",
        "    # Register the tabular dataset\n",
        "    try:\n",
        "        print(\"Registering Dataset\")\n",
        "        tab_data_set = tab_data_set.register(workspace=ws, \n",
        "                                name=ds_name,\n",
        "                                description='Diabetes Sample',\n",
        "                                tags = {'format':'CSV'},\n",
        "                                create_new_version=True)\n",
        "        print (\"Dataset is registered\")\n",
        "    except Exception as ex:\n",
        "        print(ex)\n",
        "else:\n",
        "    print('Dataset already registered.')"
      ],
      "outputs": [],
      "execution_count": null,
      "metadata": {
        "jupyter": {
          "outputs_hidden": true,
          "source_hidden": false
        },
        "nteract": {
          "transient": {
            "deleting": false
          }
        }
      }
    },
    {
      "cell_type": "markdown",
      "source": [
        "### Set Up Compute\n",
        "A compute instance will need to be selected to deploy the Hyperdrive experiment to. Executing the code, discovers the available compute instance and sets it to a variable which is used in a later code cell.\n"
      ],
      "metadata": {
        "nteract": {
          "transient": {
            "deleting": false
          }
        }
      }
    },
    {
      "cell_type": "code",
      "source": [
        "from azureml.core.compute import ComputeTarget\n",
        "\n",
        "\n",
        "for compute in ComputeTarget.list(ws):\n",
        "    training_cluster = ComputeTarget(workspace=ws, name=compute.name)\n",
        "    \n",
        "print(\"Found compute instance!\")"
      ],
      "outputs": [],
      "execution_count": null,
      "metadata": {
        "jupyter": {
          "outputs_hidden": false,
          "source_hidden": false
        },
        "nteract": {
          "transient": {
            "deleting": false
          }
        }
      }
    },
    {
      "cell_type": "markdown",
      "source": [
        "### Create Training Script\n",
        "A training script needs to be generated so it can be executed during each run. Create a folder directory to download the training script."
      ],
      "metadata": {
        "nteract": {
          "transient": {
            "deleting": false
          }
        }
      }
    },
    {
      "cell_type": "code",
      "source": [
        "import os\n",
        "\n",
        "experiment_folder = 'diabetes_training-hyperdrive'\n",
        "os.makedirs(experiment_folder, exist_ok=True)\n",
        "\n",
        "print('The folder has been created.')"
      ],
      "outputs": [],
      "execution_count": null,
      "metadata": {
        "jupyter": {
          "outputs_hidden": false,
          "source_hidden": false
        },
        "nteract": {
          "transient": {
            "deleting": false
          }
        }
      }
    },
    {
      "cell_type": "markdown",
      "source": [
        "A parameterized  training script is created in the `experiment_folder` with parameters for optimizing the the *alpha* and *tol* arguments of the algorithm. The script downloads the Diabetes dataset from the workspace and trains against it with the specified algorithm settings. Running the cell below will generate the script."
      ],
      "metadata": {
        "nteract": {
          "transient": {
            "deleting": false
          }
        }
      }
    },
    {
      "cell_type": "code",
      "source": [
        "%%writefile $experiment_folder/diabetes_training.py\n",
        "import os\n",
        "import argparse\n",
        "import joblib\n",
        "import math\n",
        "from azureml.core import Run\n",
        "import pandas as pd\n",
        "import numpy as np\n",
        "from sklearn.model_selection import train_test_split\n",
        "from sklearn.linear_model import Ridge\n",
        "from sklearn.metrics import mean_squared_error\n",
        "\n",
        "# Set alphas and tols parameters\n",
        "parser = argparse.ArgumentParser()\n",
        "parser.add_argument('--alphas', type=float, dest='alpha_value', default=0.01, help='alpha rate')\n",
        "parser.add_argument('--tols', type=float, dest='tol_value', default=0.01, help='tol rate')\n",
        "args = parser.parse_args()\n",
        "alpha = args.alpha_value\n",
        "tol = args.tol_value\n",
        "\n",
        "# Get the experiment run context\n",
        "run = Run.get_context()\n",
        "\n",
        "# Load the Diabetes dataset and split the data into training and test sets\n",
        "diabetes = run.input_datasets['diabetes'].to_pandas_dataframe()\n",
        "\n",
        "X, y = diabetes[['AGE','BMI','S1','S2','S3','S4','S5','S6','SEX']].values, diabetes['Y'].values\n",
        "X_train, X_test, y_train, y_test = train_test_split(X, y, test_size=0.2, random_state=66)\n",
        "\n",
        "# Train the model with the specified alpha and tol arguments\n",
        "model = Ridge(alpha=alpha, tol=tol)\n",
        "model.fit(X=X_train, y=y_train)\n",
        "y_pred = model.predict(X=X_test)\n",
        "rmse = math.sqrt(mean_squared_error(y_true=y_test, y_pred=y_pred))\n",
        "run.log(\"rmse\", rmse)\n",
        "\n",
        "#A file is saved to the outputs folder which automated gets uploaded into the experiment record in Azure ML Studio\n",
        "os.makedirs('outputs', exist_ok=True)\n",
        "model_name = \"model_alpha_\" + str(alpha) + \".pkl\"\n",
        "filename = \"outputs/\" + model_name\n",
        "joblib.dump(value=model, filename=filename)\n",
        "\n",
        "run.complete()"
      ],
      "outputs": [],
      "execution_count": null,
      "metadata": {
        "jupyter": {
          "outputs_hidden": false,
          "source_hidden": false
        },
        "nteract": {
          "transient": {
            "deleting": false
          }
        }
      }
    },
    {
      "cell_type": "markdown",
      "source": [
        "### Run a Hyperdrive Experiment\n",
        "Tuning hyperparameters is similar to tuning a musical instrument. You play with the settings to determine which result is best. The Hyperdrive package helps automate this process to reduce the amount of tedious work it would take to test each configuration by hand. Run the next cell to start by importing the required packages for the Hyperdrive experiment."
      ],
      "metadata": {
        "nteract": {
          "transient": {
            "deleting": false
          }
        }
      }
    },
    {
      "cell_type": "code",
      "source": [
        "from azureml.core import Experiment\n",
        "from azureml.train.sklearn import SKLearn\n",
        "from azureml.train.hyperdrive import RandomParameterSampling, BanditPolicy, HyperDriveConfig, PrimaryMetricGoal, choice, uniform\n",
        "from azureml.widgets import RunDetails\n",
        "print(\"Packages imported!\")\n",
        "\n"
      ],
      "outputs": [],
      "execution_count": null,
      "metadata": {
        "jupyter": {
          "outputs_hidden": false,
          "source_hidden": false
        },
        "nteract": {
          "transient": {
            "deleting": false
          }
        }
      }
    },
    {
      "cell_type": "markdown",
      "source": [
        "Hyperparameters are the desired settings used to tweak a given algorithm. Azure Machine Learning provides the ability to automate the selection of these settings. Currently, the sampling methods supported are random sampling, grid sampling, and Bayesian sampling.\n",
        "\n",
        "Executing the code below will use random sampling, which randomly picks values from the defined search space. With random sampling, you can use continuous hyperparameters that choose within a range of values instead of statically calling out each value to use. This reduces some of the manual work in hyperparameter tuning.\n"
      ],
      "metadata": {
        "nteract": {
          "transient": {
            "deleting": false
          }
        }
      }
    },
    {
      "cell_type": "code",
      "source": [
        "# Parameter values for random sampling\n",
        "params = RandomParameterSampling(\n",
        "    {\n",
        "        '--alphas': choice(0.001, 0.005, 0.01, 0.05, 0.1, 1.0, 2.0, 4.0, 8.0),\n",
        "        '--tols': uniform(0.001, 0.01),\n",
        "    }\n",
        ")\n",
        "\n",
        "print(\"Hyperparameters are set!\")\n",
        "\n"
      ],
      "outputs": [],
      "execution_count": null,
      "metadata": {
        "jupyter": {
          "outputs_hidden": false,
          "source_hidden": false
        },
        "nteract": {
          "transient": {
            "deleting": false
          }
        }
      }
    },
    {
      "cell_type": "markdown",
      "source": [
        "Run the next cell to create the estimator. The estimator defines the training script to use for each run, and the compute target to apply for the runs. Also, the dataset is passed through as an input so that each run can use the Diabetes dataset."
      ],
      "metadata": {
        "nteract": {
          "transient": {
            "deleting": false
          }
        }
      }
    },
    {
      "cell_type": "code",
      "source": [
        "# Get the training Diabetes dataset\n",
        "diabetes_ds = ws.datasets.get(\"diabetes\")\n",
        "\n",
        "# Create an estimator\n",
        "estimator = SKLearn(source_directory=experiment_folder,\n",
        "                          inputs=[diabetes_ds.as_named_input('diabetes')], \n",
        "                          pip_packages=['azureml-sdk'], \n",
        "                          entry_script='diabetes_training.py',\n",
        "                          compute_target =training_cluster,)\n",
        "\n",
        "\n",
        "print(\"The estimator has been configured!\")\n",
        "\n"
      ],
      "outputs": [],
      "execution_count": null,
      "metadata": {
        "jupyter": {
          "outputs_hidden": false,
          "source_hidden": false
        },
        "nteract": {
          "transient": {
            "deleting": false
          }
        }
      }
    },
    {
      "cell_type": "markdown",
      "source": [
        "Set up the Hyperdrive to configure the experiment settings. This includes the random sampling parameters as well as the estimator configuration."
      ],
      "metadata": {
        "nteract": {
          "transient": {
            "deleting": false
          }
        }
      }
    },
    {
      "cell_type": "code",
      "source": [
        "# Configure hyperdrive settings\n",
        "hyperdrive = HyperDriveConfig(estimator=estimator, \n",
        "                          hyperparameter_sampling=params, \n",
        "                          policy=None, \n",
        "                          primary_metric_name='rmse', \n",
        "                          primary_metric_goal=PrimaryMetricGoal.MAXIMIZE, \n",
        "                          max_total_runs=20,\n",
        "                          max_concurrent_runs=4)\n",
        "\n",
        "print(\"The hyperdive is ready to run!\")"
      ],
      "outputs": [],
      "execution_count": null,
      "metadata": {
        "jupyter": {
          "outputs_hidden": false,
          "source_hidden": false
        },
        "nteract": {
          "transient": {
            "deleting": false
          }
        }
      }
    },
    {
      "cell_type": "markdown",
      "source": [
        "Run the experiment and review the results. This will take 10 - 20 minutes. The status will be displayed in the output as the experiment runs.\n",
        "\n",
        "You can also switch over to Azure Machine Learning Studio and veiw the status of the run from the Experiments console."
      ],
      "metadata": {
        "nteract": {
          "transient": {
            "deleting": false
          }
        }
      }
    },
    {
      "cell_type": "code",
      "source": [
        "# Run the experiment\n",
        "experiment = Experiment(workspace = ws, name = 'diabetes_training_hyperdrive')\n",
        "run = experiment.submit(config=hyperdrive)\n",
        "\n",
        "# Show the status\n",
        "RunDetails(run).show()\n",
        "run.wait_for_completion()"
      ],
      "outputs": [],
      "execution_count": null,
      "metadata": {
        "jupyter": {
          "outputs_hidden": false,
          "source_hidden": false
        },
        "nteract": {
          "transient": {
            "deleting": false
          }
        }
      }
    },
    {
      "cell_type": "markdown",
      "source": [
        "### Get Best Performing Run\n",
        "When all the runs have finished, you can execute the code below to determine the best performing run based on the primary metric used in the experiment."
      ],
      "metadata": {
        "nteract": {
          "transient": {
            "deleting": false
          }
        }
      }
    },
    {
      "cell_type": "code",
      "source": [
        "best_run = run.get_best_run_by_primary_metric()\n",
        "if best_run is None:\n",
        "    raise Exception(\"No best run was found\")\n",
        "best_run\n",
        "\n"
      ],
      "outputs": [],
      "execution_count": null,
      "metadata": {
        "jupyter": {
          "outputs_hidden": false,
          "source_hidden": false
        },
        "nteract": {
          "transient": {
            "deleting": false
          }
        }
      }
    },
    {
      "cell_type": "markdown",
      "source": [
        "Automating the hyperparameter tuning process provides a lot of efficiency in the Machine Learning process. For more information on tuning hyperparameters checkout [Microsoft's Documentation](https://docs.microsoft.com/en-us/azure/machine-learning/how-to-tune-hyperparameters)\n",
        "\n",
        "Don't forget to switch back to the Cloud Academy Lab and run the validation check to verify the Hyperdrive experiment."
      ],
      "metadata": {
        "nteract": {
          "transient": {
            "deleting": false
          }
        }
      }
    },
    {
      "cell_type": "code",
      "source": [],
      "outputs": [],
      "execution_count": null,
      "metadata": {}
    }
  ],
  "metadata": {
    "kernel_info": {
      "name": "python3-azureml"
    },
    "kernelspec": {
      "name": "python3-azureml",
      "language": "python",
      "display_name": "Python 3.6 - AzureML"
    },
    "language_info": {
      "name": "python",
      "version": "3.6.9",
      "mimetype": "text/x-python",
      "codemirror_mode": {
        "name": "ipython",
        "version": 3
      },
      "pygments_lexer": "ipython3",
      "nbconvert_exporter": "python",
      "file_extension": ".py"
    },
    "nteract": {
      "version": "nteract-front-end@1.0.0"
    }
  },
  "nbformat": 4,
  "nbformat_minor": 4
}